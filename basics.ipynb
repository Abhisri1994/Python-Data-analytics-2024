{
 "cells": [
  {
   "cell_type": "markdown",
   "metadata": {},
   "source": [
    "# Basics\n",
    "- variable\n",
    "- input\n",
    "- output"
   ]
  },
  {
   "cell_type": "code",
   "execution_count": 36,
   "metadata": {},
   "outputs": [],
   "source": [
    "x = 1.2\n",
    "y = \"Abhijeet\""
   ]
  },
  {
   "cell_type": "code",
   "execution_count": 37,
   "metadata": {},
   "outputs": [],
   "source": [
    "a = [1,2,3,4]\n",
    "b = {'name': 'Abhijeet', 'age': 12}\n",
    "    "
   ]
  },
  {
   "cell_type": "code",
   "execution_count": 38,
   "metadata": {},
   "outputs": [
    {
     "data": {
      "text/plain": [
       "1.2"
      ]
     },
     "execution_count": 38,
     "metadata": {},
     "output_type": "execute_result"
    }
   ],
   "source": [
    "x"
   ]
  },
  {
   "cell_type": "code",
   "execution_count": 39,
   "metadata": {},
   "outputs": [],
   "source": [
    "name = input(\"enter your name\")"
   ]
  },
  {
   "cell_type": "code",
   "execution_count": 40,
   "metadata": {},
   "outputs": [
    {
     "data": {
      "text/plain": [
       "''"
      ]
     },
     "execution_count": 40,
     "metadata": {},
     "output_type": "execute_result"
    }
   ],
   "source": [
    "input()"
   ]
  },
  {
   "cell_type": "code",
   "execution_count": 41,
   "metadata": {},
   "outputs": [],
   "source": [
    "city = input(\"Enter your city\")\n",
    "fav_movie = input(\"enter your fav movie\")\n",
    "fav_color = input(\"Enter your fav color\")"
   ]
  },
  {
   "cell_type": "code",
   "execution_count": 42,
   "metadata": {},
   "outputs": [],
   "source": [
    "num1 = input(\"enter a number A\")\n",
    "nume2 = input(\"Enter a number B\")\n"
   ]
  },
  {
   "cell_type": "markdown",
   "metadata": {},
   "source": [
    "Displaying Data"
   ]
  },
  {
   "cell_type": "code",
   "execution_count": 43,
   "metadata": {},
   "outputs": [
    {
     "name": "stdout",
     "output_type": "stream",
     "text": [
      "Welcome to Dispaying Data\n"
     ]
    }
   ],
   "source": [
    "print ('Welcome to Dispaying Data') # Static message to display"
   ]
  },
  {
   "cell_type": "code",
   "execution_count": 44,
   "metadata": {},
   "outputs": [
    {
     "name": "stdout",
     "output_type": "stream",
     "text": [
      "Alex\n",
      "Baron\n"
     ]
    }
   ],
   "source": [
    "a = 'Alex'\n",
    "b = 'Baron'\n",
    "print(a) # display the value of a\n",
    "print(b) # display the value of b"
   ]
  },
  {
   "cell_type": "code",
   "execution_count": 45,
   "metadata": {},
   "outputs": [
    {
     "name": "stdout",
     "output_type": "stream",
     "text": [
      "Alex Baron\n",
      "Alex Alex Alex Alex\n"
     ]
    }
   ],
   "source": [
    "print(a, b)\n",
    "print(a, a, a, a)"
   ]
  },
  {
   "cell_type": "code",
   "execution_count": 46,
   "metadata": {},
   "outputs": [
    {
     "name": "stdout",
     "output_type": "stream",
     "text": [
      "your name is  \n"
     ]
    }
   ],
   "source": [
    "name = input('enter a name')\n",
    "print('your name is ', name)\n"
   ]
  },
  {
   "cell_type": "code",
   "execution_count": 47,
   "metadata": {},
   "outputs": [],
   "source": [
    "num1 = input('enter a number')\n",
    "num2 = input('enter another number')"
   ]
  },
  {
   "cell_type": "code",
   "execution_count": 48,
   "metadata": {},
   "outputs": [
    {
     "name": "stdout",
     "output_type": "stream",
     "text": [
      "Your 1st numer is \n",
      "your second number is \n"
     ]
    }
   ],
   "source": [
    "print('Your 1st numer is', num1)\n",
    "print('your second number is', num2)"
   ]
  },
  {
   "cell_type": "markdown",
   "metadata": {},
   "source": [
    "Displaying Data with message"
   ]
  },
  {
   "cell_type": "markdown",
   "metadata": {},
   "source": [
    "1. comma seperated\n",
    "2. format string\n",
    "3. format function\n",
    "4. string concatenation\n",
    "5. F-string"
   ]
  },
  {
   "cell_type": "code",
   "execution_count": 49,
   "metadata": {},
   "outputs": [
    {
     "name": "stdout",
     "output_type": "stream",
     "text": [
      "the values are 5, 3.200000, hello\n",
      "the values are hello, 5, 3.200000\n"
     ]
    }
   ],
   "source": [
    "# Format String\n",
    "a, b, c = 5,3.2,\"hello\" #multiple assignments\n",
    "print(\"the values are %d, %f, %s\" % (a,b,c))\n",
    "print(\"the values are %s, %d, %f\" % (c,a,b))"
   ]
  },
  {
   "cell_type": "code",
   "execution_count": 50,
   "metadata": {},
   "outputs": [
    {
     "name": "stdout",
     "output_type": "stream",
     "text": [
      "the value of a = 5, b = 3.2, c = hello\n"
     ]
    }
   ],
   "source": [
    "# Fromat Method\n",
    "print('the value of a = {}, b = {}, c = {}'.format(a,b,c))"
   ]
  },
  {
   "cell_type": "code",
   "execution_count": 51,
   "metadata": {},
   "outputs": [
    {
     "name": "stdout",
     "output_type": "stream",
     "text": [
      "Hello Word\n",
      "the values of a=5\n",
      "the values of c=hello\n",
      "the values of b=3.2\n",
      "the values of a=5  the value of c=hello  the value of b=3.2\n"
     ]
    }
   ],
   "source": [
    "#String Concatenation\n",
    "print('Hello ' + 'Word')\n",
    "print('the values of a=' + str(a))\n",
    "print('the values of c=' + c)\n",
    "print('the values of b=' + str(b))\n",
    "print('the values of a=' + str(a), ' the value of c=' + c, ' the value of b=' + str(b))"
   ]
  },
  {
   "cell_type": "code",
   "execution_count": 52,
   "metadata": {},
   "outputs": [
    {
     "name": "stdout",
     "output_type": "stream",
     "text": [
      "the value of a = 5, b = 3.2, c = hello\n"
     ]
    }
   ],
   "source": [
    "# F- String\n",
    "print(f'the value of a = {a}, b = {b}, c = {c}')"
   ]
  },
  {
   "cell_type": "code",
   "execution_count": 53,
   "metadata": {},
   "outputs": [
    {
     "name": "stdout",
     "output_type": "stream",
     "text": [
      "10/ 3 =3.3333333333333335\n",
      "10/ 3 =3.33\n"
     ]
    }
   ],
   "source": [
    "##F- String Setting\n",
    "a,b = 10,3\n",
    "print(f'{a}/ {b} ={a/b}')\n",
    "print(f'{a}/ {b} ={a/b:.2f}') # .2f = 2 decimal place"
   ]
  },
  {
   "cell_type": "code",
   "execution_count": 54,
   "metadata": {},
   "outputs": [
    {
     "name": "stdout",
     "output_type": "stream",
     "text": [
      "you are Alex\n",
      "you are Alex      \n",
      "you are       Alex\n"
     ]
    }
   ],
   "source": [
    "# Alingment \n",
    "name = 'Alex'\n",
    "print(f'you are {name}')\n",
    "print(f'you are {name:10}') # 10 here is number of characters for display\n",
    "print(f'you are {name:>10}') # 10 here is number of characters for display\n",
    "\n"
   ]
  },
  {
   "cell_type": "code",
   "execution_count": 57,
   "metadata": {},
   "outputs": [
    {
     "name": "stdout",
     "output_type": "stream",
     "text": [
      "fruit 1:        Apple\n",
      "fruit 2:    Blueberry\n",
      "fruit 3:       Cherry\n",
      "fruit 4:  Dragonfruit\n"
     ]
    }
   ],
   "source": [
    "a,b,c,d = 'Apple', 'Blueberry', 'Cherry', 'Dragonfruit'\n",
    "print(f'fruit 1: {a:>12}')\n",
    "print(f'fruit 2: {b:>12}')\n",
    "print(f'fruit 3: {c:>12}')\n",
    "print(f'fruit 4: {d:>12}')"
   ]
  },
  {
   "cell_type": "code",
   "execution_count": null,
   "metadata": {},
   "outputs": [],
   "source": []
  }
 ],
 "metadata": {
  "kernelspec": {
   "display_name": "base",
   "language": "python",
   "name": "python3"
  },
  "language_info": {
   "codemirror_mode": {
    "name": "ipython",
    "version": 3
   },
   "file_extension": ".py",
   "mimetype": "text/x-python",
   "name": "python",
   "nbconvert_exporter": "python",
   "pygments_lexer": "ipython3",
   "version": "3.12.3"
  }
 },
 "nbformat": 4,
 "nbformat_minor": 2
}
