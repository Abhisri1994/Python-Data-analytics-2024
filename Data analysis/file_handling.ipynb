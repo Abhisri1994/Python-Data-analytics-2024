{
 "cells": [
  {
   "cell_type": "code",
   "execution_count": null,
   "metadata": {},
   "outputs": [],
   "source": []
  },
  {
   "cell_type": "markdown",
   "metadata": {},
   "source": [
    "File Handling\n",
    "\n",
    "- Folders and files listing\n",
    "    - Simple\n",
    "    - recursive\n",
    "- file reading\n",
    "- file writing\n",
    "- adding text to a file\n"
   ]
  },
  {
   "cell_type": "code",
   "execution_count": 1,
   "metadata": {},
   "outputs": [],
   "source": [
    "import os"
   ]
  },
  {
   "cell_type": "code",
   "execution_count": 2,
   "metadata": {},
   "outputs": [
    {
     "name": "stdout",
     "output_type": "stream",
     "text": [
      "e:\\Python Data analytics 2024\\Data analysis\n"
     ]
    }
   ],
   "source": [
    "Base_DIR = os.getcwd()\n",
    "print(Base_DIR)"
   ]
  },
  {
   "cell_type": "markdown",
   "metadata": {},
   "source": [
    "- Address in windows:\n",
    "    -  e:\\Python Data analytics 2024\\Data analysis\n",
    "- address in linux/mac:\n",
    "    -  /home/user/Documents/file_handling"
   ]
  },
  {
   "cell_type": "markdown",
   "metadata": {},
   "source": []
  },
  {
   "cell_type": "code",
   "execution_count": 3,
   "metadata": {},
   "outputs": [
    {
     "name": "stdout",
     "output_type": "stream",
     "text": [
      "HI\n"
     ]
    }
   ],
   "source": [
    "addr = r'C:\\Users\\abhij\\OneDrive\\Pictures\\Screenshots'\n",
    "if os.path.exists(addr):\n",
    "    print(\"HI\")\n",
    "else:\n",
    "    print(\"BYE\")"
   ]
  },
  {
   "cell_type": "code",
   "execution_count": 4,
   "metadata": {},
   "outputs": [
    {
     "name": "stdout",
     "output_type": "stream",
     "text": [
      "C:\\Users\\abhij\\OneDrive\\Pictures\\Screenshots\n"
     ]
    }
   ],
   "source": [
    "os.chdir(addr) ## Changing the directory to the given number\n",
    "print(os.getcwd()) ## Printing the current directory\n"
   ]
  },
  {
   "cell_type": "code",
   "execution_count": 5,
   "metadata": {},
   "outputs": [
    {
     "name": "stdout",
     "output_type": "stream",
     "text": [
      "5\n",
      "desktop.ini\n",
      "Screenshot 2023-11-02 221004.png\n",
      "Screenshot 2023-11-02 221028.png\n",
      "Screenshot 2024-07-06 103232.png\n",
      "Screenshot 2024-07-06 103336.png\n"
     ]
    }
   ],
   "source": [
    "files = os.listdir()\n",
    "print(len(files))\n",
    "for i in files:\n",
    "    if os.path.isfile(i):\n",
    "        print(i)"
   ]
  },
  {
   "cell_type": "code",
   "execution_count": 6,
   "metadata": {},
   "outputs": [
    {
     "name": "stdout",
     "output_type": "stream",
     "text": [
      "e:\\Python Data analytics 2024\\Data analysis\n"
     ]
    }
   ],
   "source": [
    "os.chdir(Base_DIR)\n",
    "print(os.getcwd())"
   ]
  },
  {
   "cell_type": "code",
   "execution_count": 7,
   "metadata": {},
   "outputs": [],
   "source": [
    "## Creating a new folder\n",
    "os.makedirs(\"secrets/files\", exist_ok=True) ## exist_ok = True will not raise an error\n"
   ]
  },
  {
   "cell_type": "code",
   "execution_count": 8,
   "metadata": {},
   "outputs": [],
   "source": [
    "os.chdir(\"secrets/files\") ## Changing the directory to the given address"
   ]
  },
  {
   "cell_type": "code",
   "execution_count": 9,
   "metadata": {},
   "outputs": [],
   "source": [
    "def read_file(path):\n",
    "    with open(path) as files:\n",
    "        content = files.read()\n",
    "        return content\n"
   ]
  },
  {
   "cell_type": "code",
   "execution_count": 10,
   "metadata": {},
   "outputs": [
    {
     "data": {
      "text/plain": [
       "[]"
      ]
     },
     "execution_count": 10,
     "metadata": {},
     "output_type": "execute_result"
    }
   ],
   "source": [
    "os.listdir()"
   ]
  },
  {
   "cell_type": "code",
   "execution_count": 12,
   "metadata": {},
   "outputs": [
    {
     "name": "stdout",
     "output_type": "stream",
     "text": [
      "aksda\n",
      "das\n",
      "dasd\n",
      "aksdaas\n",
      "dasasd\n",
      "aksda\n"
     ]
    }
   ],
   "source": [
    "data = read_file('sample.txt')\n",
    "print(data)"
   ]
  },
  {
   "cell_type": "code",
   "execution_count": 17,
   "metadata": {},
   "outputs": [],
   "source": [
    "def write_file(path, content):\n",
    "    with open(path, 'w') as file:\n",
    "        file.write(content)\n",
    "\n",
    "def append_file(path, content):\n",
    "    with open(path, 'a')as file:\n",
    "        file.write(content)"
   ]
  },
  {
   "cell_type": "code",
   "execution_count": 20,
   "metadata": {},
   "outputs": [],
   "source": [
    "write_file(\"one.txt\", \"once upon a time\")\n"
   ]
  },
  {
   "cell_type": "code",
   "execution_count": 21,
   "metadata": {},
   "outputs": [],
   "source": [
    "append_file(\"one.txt\", \"\\nthere was a king\")\n"
   ]
  },
  {
   "cell_type": "code",
   "execution_count": 22,
   "metadata": {},
   "outputs": [
    {
     "data": {
      "text/plain": [
       "'once upon a time\\nthere was a king'"
      ]
     },
     "execution_count": 22,
     "metadata": {},
     "output_type": "execute_result"
    }
   ],
   "source": [
    "read_file(\"one.txt\")"
   ]
  },
  {
   "cell_type": "code",
   "execution_count": null,
   "metadata": {},
   "outputs": [],
   "source": []
  }
 ],
 "metadata": {
  "kernelspec": {
   "display_name": "base",
   "language": "python",
   "name": "python3"
  },
  "language_info": {
   "codemirror_mode": {
    "name": "ipython",
    "version": 3
   },
   "file_extension": ".py",
   "mimetype": "text/x-python",
   "name": "python",
   "nbconvert_exporter": "python",
   "pygments_lexer": "ipython3",
   "version": "3.12.3"
  }
 },
 "nbformat": 4,
 "nbformat_minor": 2
}
