{
 "cells": [
  {
   "cell_type": "code",
   "execution_count": 1,
   "metadata": {},
   "outputs": [],
   "source": [
    "class Pen:\n",
    "    shape = None\n",
    "    color = None\n",
    "    material = None\n",
    "    type = None\n",
    "\n",
    "    def show(self):\n",
    "        print(\"This is a pen\")"
   ]
  },
  {
   "cell_type": "code",
   "execution_count": 2,
   "metadata": {},
   "outputs": [
    {
     "name": "stdout",
     "output_type": "stream",
     "text": [
      "<class '__main__.Pen'>\n"
     ]
    }
   ],
   "source": [
    "print(Pen)"
   ]
  },
  {
   "cell_type": "code",
   "execution_count": 7,
   "metadata": {},
   "outputs": [
    {
     "name": "stdout",
     "output_type": "stream",
     "text": [
      "<__main__.Pen object at 0x000001C007AEB470>\n",
      "<__main__.Pen object at 0x000001C007AEB050>\n",
      "This is a pen\n",
      "This is a pen\n",
      "None\n",
      "cylinder blue plastic ballpount\n",
      "hexagon red metal gelpen\n"
     ]
    }
   ],
   "source": [
    "p1 = Pen() # Create an object of a pen class\n",
    "p2 = Pen()\n",
    "print(p1)\n",
    "print(p2)\n",
    "p1.show()\n",
    "p2.show()\n",
    "print(p1.shape)\n",
    "p1.shape = \"cylinder\" # Setting the value of shape attribute\n",
    "p2.shape = \"hexagon\"\n",
    "p1.color = \"blue\"\n",
    "p2.color = \"red\"\n",
    "p1.material = \"plastic\"\n",
    "p2.material = \"metal\"\n",
    "p1.type = \"ballpount\"\n",
    "p2.type = \"gelpen\"\n",
    "print(p1.shape, p1.color,p1.material,p1.type)\n",
    "print(p2.shape, p2.color,p2.material,p2.type)"
   ]
  },
  {
   "cell_type": "code",
   "execution_count": 13,
   "metadata": {},
   "outputs": [],
   "source": [
    "class student:\n",
    "    def __init__(self, nm, course, college, gender='F') -> None:\n",
    "        # Instance variables\n",
    "        self.name = nm\n",
    "        self.course = course\n",
    "        self.college = college\n",
    "        self.gender = gender\n",
    "        self.skills = []\n",
    "        # instance method\n",
    "    def show(self):\n",
    "        print(\"student name:\", self.name)\n",
    "        print(\"course\", self.course)\n",
    "        print(\"college\", self.college)\n",
    "        print(\"Gender\", self.gender)\n",
    "        print(\"Skills:\", *self.skills)\n",
    "    def add_skill(self,new_skill):\n",
    "        self.skills.append(new_skill)"
   ]
  },
  {
   "cell_type": "code",
   "execution_count": 14,
   "metadata": {},
   "outputs": [
    {
     "name": "stdout",
     "output_type": "stream",
     "text": [
      "student name: Abhijeet\n",
      "course Btech\n",
      "college BIET\n",
      "Gender M\n",
      "Skills: Coding Strategy\n",
      "student name: shaurya\n",
      "course Btech\n",
      "college MIT\n",
      "Gender M\n",
      "Skills: Table tennis martial art\n",
      "student name: Akash\n",
      "course Btech\n",
      "college SIT\n",
      "Gender M\n",
      "Skills: Judo Driving\n"
     ]
    }
   ],
   "source": [
    "s1 = student(\"Abhijeet\", \"Btech\", \"BIET\", \"M\")\n",
    "s2 = student(\"shaurya\", \"Btech\", \"MIT\", \"M\")\n",
    "s3 = student(\"Akash\", \"Btech\", \"SIT\", \"M\")\n",
    "s1.add_skill(\"Coding\")\n",
    "s1.add_skill(\"Strategy\")\n",
    "s2.add_skill(\"Table tennis\")\n",
    "s2.add_skill(\"martial art\")\n",
    "s3.add_skill(\"Judo\")\n",
    "s3.add_skill(\"Driving\")\n",
    "s1.show()\n",
    "s2.show()\n",
    "s3.show()\n",
    "\n"
   ]
  },
  {
   "cell_type": "markdown",
   "metadata": {},
   "source": [
    "###### Data class\n",
    "- data class is a class that only contains data, no function."
   ]
  },
  {
   "cell_type": "code",
   "execution_count": 15,
   "metadata": {},
   "outputs": [],
   "source": [
    "from dataclasses import dataclass"
   ]
  },
  {
   "cell_type": "code",
   "execution_count": 16,
   "metadata": {},
   "outputs": [],
   "source": [
    "@dataclass\n",
    "class Employee:\n",
    "    name: str\n",
    "    designation: str\n",
    "    salary: float"
   ]
  },
  {
   "cell_type": "code",
   "execution_count": 18,
   "metadata": {},
   "outputs": [
    {
     "name": "stdout",
     "output_type": "stream",
     "text": [
      "Employee(name='sam', designation='Manager', salary=500000)\n",
      "Employee(name='Jadu', designation='analyst', salary=250000)\n",
      "sam\n"
     ]
    }
   ],
   "source": [
    "e1 = Employee(\"sam\", \"Manager\", 500000)\n",
    "e2 = Employee(\"Jadu\", \"analyst\", 250000)\n",
    "print(e1)\n",
    "print(e2)\n",
    "print(e1.name)\n"
   ]
  },
  {
   "cell_type": "code",
   "execution_count": 19,
   "metadata": {},
   "outputs": [],
   "source": [
    "class Blackbencher(student):\n",
    "    pass"
   ]
  },
  {
   "cell_type": "code",
   "execution_count": 20,
   "metadata": {},
   "outputs": [
    {
     "name": "stdout",
     "output_type": "stream",
     "text": [
      "student name: Rahul\n",
      "course Btech\n",
      "college SRMU\n",
      "Gender M\n",
      "Skills: Sleeping\n"
     ]
    }
   ],
   "source": [
    "b1 = Blackbencher(\"Rahul\",\"Btech\", \"SRMU\", \"M\")\n",
    "b1.add_skill(\"Sleeping\")\n",
    "b1.show()"
   ]
  },
  {
   "cell_type": "code",
   "execution_count": null,
   "metadata": {},
   "outputs": [],
   "source": []
  },
  {
   "cell_type": "code",
   "execution_count": 1,
   "metadata": {},
   "outputs": [],
   "source": [
    "# Parent class\n",
    "class Shape:\n",
    "    def __init__(self, color, filled) -> None:\n",
    "        self.color = color\n",
    "        self.filled = filled\n",
    "\n",
    "    def show(self):\n",
    "        print(\"color:\", self.color)\n",
    "        print(\"Filled:\", self.filled)"
   ]
  },
  {
   "cell_type": "code",
   "execution_count": 12,
   "metadata": {},
   "outputs": [],
   "source": [
    "## Child class\n",
    "class Circle(Shape):\n",
    "    def __init__(self, radius, color, filled) -> None:\n",
    "        super().__init__(color, filled)\n",
    "        self.radius = radius\n",
    "\n",
    "class Rectangle(Shape):\n",
    "    def __init__(self,l,w, color, filled) -> None:\n",
    "        super().__init__(color, filled)\n",
    "        self.length = l\n",
    "        self.width = w\n",
    "    # method overwriting\n",
    "    def Show(self):\n",
    "        super().Show()\n",
    "        print(\"Length:\", self.length)\n",
    "        print(\"width:\", self.width)\n",
    "\n",
    "    def area(self):\n",
    "        return self.length * self.width\n",
    "class Triangle(Shape):\n",
    "        # Construction Overridng\n",
    "    def __init__(self, base, height) -> None:\n",
    "        ## Parent class constructor fixed values\n",
    "        super().__init__(color= 'red', filled=True)\n",
    "        self.base = base\n",
    "        self.height = height"
   ]
  },
  {
   "cell_type": "code",
   "execution_count": 13,
   "metadata": {},
   "outputs": [
    {
     "name": "stdout",
     "output_type": "stream",
     "text": [
      "color: red\n",
      "Filled: True\n",
      "color: green\n",
      "Filled: False\n",
      "Rectangle area: 50\n",
      "color: red\n",
      "Filled: True\n"
     ]
    }
   ],
   "source": [
    "circle = Circle(5,\"red\", True)\n",
    "circle.show()\n",
    "rect = Rectangle(10, 5, \"green\", False)\n",
    "rect.show()\n",
    "print(\"Rectangle area:\", rect.area())\n",
    "tri = Triangle(10,5)\n",
    "tri.show()"
   ]
  },
  {
   "cell_type": "code",
   "execution_count": null,
   "metadata": {},
   "outputs": [],
   "source": []
  }
 ],
 "metadata": {
  "kernelspec": {
   "display_name": "base",
   "language": "python",
   "name": "python3"
  },
  "language_info": {
   "codemirror_mode": {
    "name": "ipython",
    "version": 3
   },
   "file_extension": ".py",
   "mimetype": "text/x-python",
   "name": "python",
   "nbconvert_exporter": "python",
   "pygments_lexer": "ipython3",
   "version": "3.12.3"
  }
 },
 "nbformat": 4,
 "nbformat_minor": 2
}
