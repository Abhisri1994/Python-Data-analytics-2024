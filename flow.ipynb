{
 "cells": [
  {
   "cell_type": "code",
   "execution_count": null,
   "metadata": {},
   "outputs": [],
   "source": []
  },
  {
   "cell_type": "markdown",
   "metadata": {},
   "source": []
  },
  {
   "cell_type": "markdown",
   "metadata": {},
   "source": [
    "Programming Flow\n",
    "- condition flow\n",
    "    - if\n",
    "    - if else\n",
    "    - if elif else\n",
    "    - match case\n",
    "- iterative flow\n",
    "    - for loop\n",
    "    - while loop\n",
    "    "
   ]
  },
  {
   "cell_type": "markdown",
   "metadata": {},
   "source": []
  },
  {
   "cell_type": "code",
   "execution_count": 1,
   "metadata": {},
   "outputs": [
    {
     "name": "stdout",
     "output_type": "stream",
     "text": [
      "hello everyone\n"
     ]
    }
   ],
   "source": [
    "if 'hello':\n",
    "    print('hello everyone')"
   ]
  },
  {
   "cell_type": "code",
   "execution_count": 2,
   "metadata": {},
   "outputs": [
    {
     "name": "stdout",
     "output_type": "stream",
     "text": [
      "hello everyone\n"
     ]
    }
   ],
   "source": [
    "x = 'hello'\n",
    "if len(x) >=5:\n",
    "    print('hello everyone')"
   ]
  },
  {
   "cell_type": "code",
   "execution_count": 4,
   "metadata": {},
   "outputs": [],
   "source": [
    "a = int(input('Enter a number:'))\n",
    "if a * 2 > 100:\n",
    "    print('a * 2 is greater than 100')\n",
    "if a + 50 > 150:\n",
    "    print('a + 50 is greater than 150')"
   ]
  },
  {
   "cell_type": "code",
   "execution_count": 5,
   "metadata": {},
   "outputs": [
    {
     "name": "stdout",
     "output_type": "stream",
     "text": [
      "x is Even\n"
     ]
    }
   ],
   "source": [
    "x = int(input('Enter a number: '))\n",
    "if x % 2 == 0:\n",
    "    print('x is Even')\n",
    "else:\n",
    "    print('X is odd')"
   ]
  },
  {
   "cell_type": "markdown",
   "metadata": {},
   "source": [
    "wap to find out the total salary of the employee based on the following data\n",
    "salary : user inputed\n",
    "`hra =  5%\n",
    "`da = 3.3 %\n",
    "`ta = 2.61 %\n",
    "total = salary + da + ta + hra\n",
    "\n",
    "*rule*\n",
    "if hra is less than 1000 then dont add hra to total.\n"
   ]
  },
  {
   "cell_type": "code",
   "execution_count": 8,
   "metadata": {},
   "outputs": [
    {
     "name": "stdout",
     "output_type": "stream",
     "text": [
      "movie: jhg\n",
      "⭐⭐⭐⭐ (Good)\n"
     ]
    }
   ],
   "source": [
    "name = input(\"what move did you watch ?\")\n",
    "num_str = input('Enter movie rating')\n",
    "if num_str.isnumeric():\n",
    "    num = int(num_str)\n",
    "    print(f\"movie: {name}\")\n",
    "    if num == 1:\n",
    "        print(' ⭐ (Terrible)')\n",
    "    elif num == 2:\n",
    "        print('⭐⭐(Bad)')\n",
    "    elif num == 3:\n",
    "        print('⭐⭐⭐ (Average)')\n",
    "    elif num == 4:\n",
    "        print('⭐⭐⭐⭐ (Good)')\n",
    "    elif num == 5:\n",
    "        print(' ⭐⭐⭐⭐⭐ (Excellent)')\n",
    "    else:\n",
    "        print('🔺 (Invalid Rating)')\n",
    "else:\n",
    "    print('you are stupid just watch movies')"
   ]
  },
  {
   "cell_type": "code",
   "execution_count": 13,
   "metadata": {},
   "outputs": [
    {
     "name": "stdout",
     "output_type": "stream",
     "text": [
      " Invalid day\n"
     ]
    }
   ],
   "source": [
    "# Match case - use this to match multiple values\n",
    "day = input('Enter a day of the week: ' )\n",
    "match day.lower:\n",
    "    case 'monday'|'tuesday'|'wednesday'|'friday':\n",
    "        print('Data science/Data analysis class')\n",
    "    case 'thursday':\n",
    "        print('class off')\n",
    "    case 'saturday'|'sunday':\n",
    "        print(' weekeend ( no class)')\n",
    "    case _: # default case\n",
    "        print(' Invalid day')\n"
   ]
  },
  {
   "cell_type": "markdown",
   "metadata": {},
   "source": [
    "Single Line condition"
   ]
  },
  {
   "cell_type": "code",
   "execution_count": 14,
   "metadata": {},
   "outputs": [
    {
     "name": "stdout",
     "output_type": "stream",
     "text": [
      " Below 100\n"
     ]
    }
   ],
   "source": [
    "x = int(input(' Enter a number'))\n",
    "print(\"above 100\") if x > 100 else print(\" Below 100\")"
   ]
  },
  {
   "cell_type": "markdown",
   "metadata": {},
   "source": [
    "## For Loop\n",
    "- Step Based\n",
    "for var in iterable:\n",
    " Statement....\n",
    "## While Loop\n",
    "- Condition based"
   ]
  },
  {
   "cell_type": "code",
   "execution_count": 17,
   "metadata": {},
   "outputs": [
    {
     "name": "stdout",
     "output_type": "stream",
     "text": [
      "h\n",
      "e\n",
      "l\n",
      "l\n",
      "o\n",
      "o\n"
     ]
    }
   ],
   "source": [
    "for v in 'helloo':\n",
    "    print(v)\n"
   ]
  },
  {
   "cell_type": "code",
   "execution_count": 18,
   "metadata": {},
   "outputs": [
    {
     "name": "stdout",
     "output_type": "stream",
     "text": [
      "0 red\n",
      "1 blue\n",
      "2 green\n"
     ]
    }
   ],
   "source": [
    "colors = ['red', 'blue', 'green']\n",
    "for i, v in enumerate(colors):\n",
    "    print(i, v)"
   ]
  },
  {
   "cell_type": "code",
   "execution_count": 21,
   "metadata": {},
   "outputs": [
    {
     "name": "stdout",
     "output_type": "stream",
     "text": [
      " 12 => 120\n",
      " 56 => 560\n",
      "  7 => 70\n",
      "  2 => 20\n",
      " 10 => 100\n",
      " 20 => 200\n"
     ]
    }
   ],
   "source": [
    "numlist = [12, 56, 7, 2, 10, 20]\n",
    "for num in numlist:\n",
    "    print(f'{num:>3} => {num * 10}')"
   ]
  },
  {
   "cell_type": "code",
   "execution_count": 22,
   "metadata": {},
   "outputs": [
    {
     "name": "stdout",
     "output_type": "stream",
     "text": [
      "10  == 10 \n",
      "20  == 20 \n",
      "30  == 30 \n",
      "40  == 40 \n",
      "50  == 50 \n",
      "60  == 60 \n",
      "70  == 70 \n",
      "80  == 80 \n",
      "90  == 90 \n",
      "100 == 100\n"
     ]
    }
   ],
   "source": [
    "numlist = [10, 20, 30, 40, 50, 60, 70, 80, 90, 100]\n",
    "for num in numlist:\n",
    "    print(f'{num:<3} == {num * 1:<3}')"
   ]
  },
  {
   "cell_type": "code",
   "execution_count": 23,
   "metadata": {},
   "outputs": [
    {
     "name": "stdout",
     "output_type": "stream",
     "text": [
      "13 * 1 = 13\n",
      "13 * 2 = 26\n",
      "13 * 3 = 39\n",
      "13 * 4 = 52\n",
      "13 * 5 = 65\n",
      "13 * 6 = 78\n",
      "13 * 7 = 91\n",
      "13 * 8 = 104\n",
      "13 * 9 = 117\n",
      "13 * 10 = 130\n"
     ]
    }
   ],
   "source": [
    "num = 13\n",
    "for i in range(1,11):\n",
    "    print(f'{num} * {i} = { num * i }')"
   ]
  },
  {
   "cell_type": "code",
   "execution_count": 24,
   "metadata": {},
   "outputs": [
    {
     "name": "stdout",
     "output_type": "stream",
     "text": [
      "13 * 10 = 130\n",
      "13 * 15 = 195\n",
      "13 * 20 = 260\n",
      "13 * 25 = 325\n",
      "13 * 30 = 390\n",
      "13 * 35 = 455\n",
      "13 * 40 = 520\n",
      "13 * 45 = 585\n",
      "13 * 50 = 650\n",
      "13 * 55 = 715\n",
      "13 * 60 = 780\n",
      "13 * 65 = 845\n",
      "13 * 70 = 910\n",
      "13 * 75 = 975\n",
      "13 * 80 = 1040\n",
      "13 * 85 = 1105\n",
      "13 * 90 = 1170\n",
      "13 * 95 = 1235\n",
      "13 * 100 = 1300\n"
     ]
    }
   ],
   "source": [
    "num = 13\n",
    "for i in range(10, 101, 5):\n",
    "    print(f'{num} * {i} = { num * i }')"
   ]
  },
  {
   "cell_type": "code",
   "execution_count": 28,
   "metadata": {},
   "outputs": [
    {
     "name": "stdout",
     "output_type": "stream",
     "text": [
      "0\n",
      "2\n",
      "4\n",
      "6\n",
      "8\n",
      "10\n",
      "12\n",
      "14\n",
      "16\n",
      "18\n",
      "20\n",
      "22\n",
      "24\n",
      "26\n",
      "28\n",
      "30\n",
      "32\n",
      "34\n",
      "36\n",
      "38\n",
      "40\n",
      "42\n",
      "44\n",
      "46\n",
      "48\n",
      "50\n",
      "52\n",
      "54\n",
      "56\n",
      "58\n",
      "60\n",
      "62\n",
      "64\n",
      "66\n",
      "68\n",
      "70\n",
      "72\n",
      "74\n",
      "76\n",
      "78\n",
      "80\n",
      "82\n",
      "84\n",
      "86\n",
      "88\n",
      "90\n",
      "92\n",
      "94\n",
      "96\n",
      "98\n",
      "100\n"
     ]
    }
   ],
   "source": [
    "# only for Even \n",
    "for i in range( 0, 101, 2):\n",
    "    print(i)"
   ]
  },
  {
   "cell_type": "code",
   "execution_count": 34,
   "metadata": {},
   "outputs": [
    {
     "name": "stdout",
     "output_type": "stream",
     "text": [
      "1\n",
      "4\n",
      "7\n",
      "10\n",
      "13\n",
      "16\n",
      "19\n",
      "22\n",
      "25\n",
      "28\n",
      "31\n",
      "34\n",
      "37\n",
      "40\n",
      "43\n",
      "46\n",
      "49\n",
      "52\n",
      "55\n",
      "58\n",
      "61\n",
      "64\n",
      "67\n",
      "70\n",
      "73\n",
      "76\n",
      "79\n",
      "82\n",
      "85\n",
      "88\n",
      "91\n",
      "94\n",
      "97\n"
     ]
    }
   ],
   "source": [
    "# of odd number\n",
    "for i in range( 1, 100, 3):\n",
    "    print(i)"
   ]
  },
  {
   "cell_type": "code",
   "execution_count": null,
   "metadata": {},
   "outputs": [],
   "source": []
  }
 ],
 "metadata": {
  "kernelspec": {
   "display_name": "base",
   "language": "python",
   "name": "python3"
  },
  "language_info": {
   "codemirror_mode": {
    "name": "ipython",
    "version": 3
   },
   "file_extension": ".py",
   "mimetype": "text/x-python",
   "name": "python",
   "nbconvert_exporter": "python",
   "pygments_lexer": "ipython3",
   "version": "3.12.3"
  }
 },
 "nbformat": 4,
 "nbformat_minor": 2
}
