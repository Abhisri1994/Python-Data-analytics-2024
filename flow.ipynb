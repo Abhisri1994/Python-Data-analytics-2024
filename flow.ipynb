{
 "cells": [
  {
   "cell_type": "code",
   "execution_count": null,
   "metadata": {},
   "outputs": [],
   "source": []
  },
  {
   "cell_type": "markdown",
   "metadata": {},
   "source": []
  },
  {
   "cell_type": "markdown",
   "metadata": {},
   "source": [
    "Programming Flow\n",
    "- condition flow\n",
    "    - if\n",
    "    - if else\n",
    "    - if elif else\n",
    "    - match case\n",
    "- iterative flow\n",
    "    - for loop\n",
    "    - while loop\n",
    "    "
   ]
  },
  {
   "cell_type": "markdown",
   "metadata": {},
   "source": []
  },
  {
   "cell_type": "code",
   "execution_count": 1,
   "metadata": {},
   "outputs": [
    {
     "name": "stdout",
     "output_type": "stream",
     "text": [
      "hello everyone\n"
     ]
    }
   ],
   "source": [
    "if 'hello':\n",
    "    print('hello everyone')"
   ]
  },
  {
   "cell_type": "code",
   "execution_count": 2,
   "metadata": {},
   "outputs": [
    {
     "name": "stdout",
     "output_type": "stream",
     "text": [
      "hello everyone\n"
     ]
    }
   ],
   "source": [
    "x = 'hello'\n",
    "if len(x) >=5:\n",
    "    print('hello everyone')"
   ]
  },
  {
   "cell_type": "code",
   "execution_count": 4,
   "metadata": {},
   "outputs": [],
   "source": [
    "a = int(input('Enter a number:'))\n",
    "if a * 2 > 100:\n",
    "    print('a * 2 is greater than 100')\n",
    "if a + 50 > 150:\n",
    "    print('a + 50 is greater than 150')"
   ]
  },
  {
   "cell_type": "code",
   "execution_count": 5,
   "metadata": {},
   "outputs": [
    {
     "name": "stdout",
     "output_type": "stream",
     "text": [
      "x is Even\n"
     ]
    }
   ],
   "source": [
    "x = int(input('Enter a number: '))\n",
    "if x % 2 == 0:\n",
    "    print('x is Even')\n",
    "else:\n",
    "    print('X is odd')"
   ]
  },
  {
   "cell_type": "markdown",
   "metadata": {},
   "source": [
    "wap to find out the total salary of the employee based on the following data\n",
    "salary : user inputed\n",
    "`hra =  5%\n",
    "`da = 3.3 %\n",
    "`ta = 2.61 %\n",
    "total = salary + da + ta + hra\n",
    "\n",
    "*rule*\n",
    "if hra is less than 1000 then dont add hra to total.\n"
   ]
  },
  {
   "cell_type": "code",
   "execution_count": 8,
   "metadata": {},
   "outputs": [
    {
     "name": "stdout",
     "output_type": "stream",
     "text": [
      "movie: jhg\n",
      "⭐⭐⭐⭐ (Good)\n"
     ]
    }
   ],
   "source": [
    "name = input(\"what move did you watch ?\")\n",
    "num_str = input('Enter movie rating')\n",
    "if num_str.isnumeric():\n",
    "    num = int(num_str)\n",
    "    print(f\"movie: {name}\")\n",
    "    if num == 1:\n",
    "        print(' ⭐ (Terrible)')\n",
    "    elif num == 2:\n",
    "        print('⭐⭐(Bad)')\n",
    "    elif num == 3:\n",
    "        print('⭐⭐⭐ (Average)')\n",
    "    elif num == 4:\n",
    "        print('⭐⭐⭐⭐ (Good)')\n",
    "    elif num == 5:\n",
    "        print(' ⭐⭐⭐⭐⭐ (Excellent)')\n",
    "    else:\n",
    "        print('🔺 (Invalid Rating)')\n",
    "else:\n",
    "    print('you are stupid just watch movies')"
   ]
  },
  {
   "cell_type": "code",
   "execution_count": 13,
   "metadata": {},
   "outputs": [
    {
     "name": "stdout",
     "output_type": "stream",
     "text": [
      " Invalid day\n"
     ]
    }
   ],
   "source": [
    "# Match case - use this to match multiple values\n",
    "day = input('Enter a day of the week: ' )\n",
    "match day.lower:\n",
    "    case 'monday'|'tuesday'|'wednesday'|'friday':\n",
    "        print('Data science/Data analysis class')\n",
    "    case 'thursday':\n",
    "        print('class off')\n",
    "    case 'saturday'|'sunday':\n",
    "        print(' weekeend ( no class)')\n",
    "    case _: # default case\n",
    "        print(' Invalid day')\n"
   ]
  },
  {
   "cell_type": "markdown",
   "metadata": {},
   "source": [
    "Single Line condition"
   ]
  },
  {
   "cell_type": "code",
   "execution_count": 14,
   "metadata": {},
   "outputs": [
    {
     "name": "stdout",
     "output_type": "stream",
     "text": [
      " Below 100\n"
     ]
    }
   ],
   "source": [
    "x = int(input(' Enter a number'))\n",
    "print(\"above 100\") if x > 100 else print(\" Below 100\")"
   ]
  },
  {
   "cell_type": "markdown",
   "metadata": {},
   "source": [
    "## For Loop\n",
    "- Step Based\n",
    "for var in iterable:\n",
    " Statement....\n",
    "## While Loop\n",
    "- Condition based"
   ]
  },
  {
   "cell_type": "code",
   "execution_count": 17,
   "metadata": {},
   "outputs": [
    {
     "name": "stdout",
     "output_type": "stream",
     "text": [
      "h\n",
      "e\n",
      "l\n",
      "l\n",
      "o\n",
      "o\n"
     ]
    }
   ],
   "source": [
    "for v in 'helloo':\n",
    "    print(v)\n"
   ]
  },
  {
   "cell_type": "code",
   "execution_count": 18,
   "metadata": {},
   "outputs": [
    {
     "name": "stdout",
     "output_type": "stream",
     "text": [
      "0 red\n",
      "1 blue\n",
      "2 green\n"
     ]
    }
   ],
   "source": [
    "colors = ['red', 'blue', 'green']\n",
    "for i, v in enumerate(colors):\n",
    "    print(i, v)"
   ]
  },
  {
   "cell_type": "code",
   "execution_count": 21,
   "metadata": {},
   "outputs": [
    {
     "name": "stdout",
     "output_type": "stream",
     "text": [
      " 12 => 120\n",
      " 56 => 560\n",
      "  7 => 70\n",
      "  2 => 20\n",
      " 10 => 100\n",
      " 20 => 200\n"
     ]
    }
   ],
   "source": [
    "numlist = [12, 56, 7, 2, 10, 20]\n",
    "for num in numlist:\n",
    "    print(f'{num:>3} => {num * 10}')"
   ]
  },
  {
   "cell_type": "code",
   "execution_count": 22,
   "metadata": {},
   "outputs": [
    {
     "name": "stdout",
     "output_type": "stream",
     "text": [
      "10  == 10 \n",
      "20  == 20 \n",
      "30  == 30 \n",
      "40  == 40 \n",
      "50  == 50 \n",
      "60  == 60 \n",
      "70  == 70 \n",
      "80  == 80 \n",
      "90  == 90 \n",
      "100 == 100\n"
     ]
    }
   ],
   "source": [
    "numlist = [10, 20, 30, 40, 50, 60, 70, 80, 90, 100]\n",
    "for num in numlist:\n",
    "    print(f'{num:<3} == {num * 1:<3}')"
   ]
  },
  {
   "cell_type": "code",
   "execution_count": 23,
   "metadata": {},
   "outputs": [
    {
     "name": "stdout",
     "output_type": "stream",
     "text": [
      "13 * 1 = 13\n",
      "13 * 2 = 26\n",
      "13 * 3 = 39\n",
      "13 * 4 = 52\n",
      "13 * 5 = 65\n",
      "13 * 6 = 78\n",
      "13 * 7 = 91\n",
      "13 * 8 = 104\n",
      "13 * 9 = 117\n",
      "13 * 10 = 130\n"
     ]
    }
   ],
   "source": [
    "num = 13\n",
    "for i in range(1,11):\n",
    "    print(f'{num} * {i} = { num * i }')"
   ]
  },
  {
   "cell_type": "code",
   "execution_count": 24,
   "metadata": {},
   "outputs": [
    {
     "name": "stdout",
     "output_type": "stream",
     "text": [
      "13 * 10 = 130\n",
      "13 * 15 = 195\n",
      "13 * 20 = 260\n",
      "13 * 25 = 325\n",
      "13 * 30 = 390\n",
      "13 * 35 = 455\n",
      "13 * 40 = 520\n",
      "13 * 45 = 585\n",
      "13 * 50 = 650\n",
      "13 * 55 = 715\n",
      "13 * 60 = 780\n",
      "13 * 65 = 845\n",
      "13 * 70 = 910\n",
      "13 * 75 = 975\n",
      "13 * 80 = 1040\n",
      "13 * 85 = 1105\n",
      "13 * 90 = 1170\n",
      "13 * 95 = 1235\n",
      "13 * 100 = 1300\n"
     ]
    }
   ],
   "source": [
    "num = 13\n",
    "for i in range(10, 101, 5):\n",
    "    print(f'{num} * {i} = { num * i }')"
   ]
  },
  {
   "cell_type": "code",
   "execution_count": 28,
   "metadata": {},
   "outputs": [
    {
     "name": "stdout",
     "output_type": "stream",
     "text": [
      "0\n",
      "2\n",
      "4\n",
      "6\n",
      "8\n",
      "10\n",
      "12\n",
      "14\n",
      "16\n",
      "18\n",
      "20\n",
      "22\n",
      "24\n",
      "26\n",
      "28\n",
      "30\n",
      "32\n",
      "34\n",
      "36\n",
      "38\n",
      "40\n",
      "42\n",
      "44\n",
      "46\n",
      "48\n",
      "50\n",
      "52\n",
      "54\n",
      "56\n",
      "58\n",
      "60\n",
      "62\n",
      "64\n",
      "66\n",
      "68\n",
      "70\n",
      "72\n",
      "74\n",
      "76\n",
      "78\n",
      "80\n",
      "82\n",
      "84\n",
      "86\n",
      "88\n",
      "90\n",
      "92\n",
      "94\n",
      "96\n",
      "98\n",
      "100\n"
     ]
    }
   ],
   "source": [
    "# only for Even \n",
    "for i in range( 0, 101, 2):\n",
    "    print(i)"
   ]
  },
  {
   "cell_type": "code",
   "execution_count": 10,
   "metadata": {},
   "outputs": [
    {
     "name": "stdout",
     "output_type": "stream",
     "text": [
      "1\n",
      "3\n",
      "5\n",
      "7\n",
      "9\n",
      "11\n",
      "13\n",
      "15\n",
      "17\n",
      "19\n",
      "21\n",
      "23\n",
      "25\n",
      "27\n",
      "29\n",
      "31\n",
      "33\n",
      "35\n",
      "37\n",
      "39\n",
      "41\n",
      "43\n",
      "45\n",
      "47\n",
      "49\n",
      "51\n",
      "53\n",
      "55\n",
      "57\n",
      "59\n",
      "61\n",
      "63\n",
      "65\n",
      "67\n",
      "69\n",
      "71\n",
      "73\n",
      "75\n",
      "77\n",
      "79\n",
      "81\n",
      "83\n",
      "85\n",
      "87\n",
      "89\n",
      "91\n",
      "93\n",
      "95\n",
      "97\n",
      "99\n"
     ]
    }
   ],
   "source": [
    "# of odd number\n",
    "for i in range( 1, 100):\n",
    "    if (i % 2)  != 0:\n",
    "        print(i)"
   ]
  },
  {
   "cell_type": "markdown",
   "metadata": {},
   "source": [
    "5- Jun-24\n",
    "-   Nested\n",
    "-   break and continue\n",
    "-   for-else"
   ]
  },
  {
   "cell_type": "code",
   "execution_count": 15,
   "metadata": {},
   "outputs": [
    {
     "name": "stdout",
     "output_type": "stream",
     "text": [
      "1 1, 1 2, 1 3, \n",
      "2 1, 2 2, 2 3, \n",
      "3 1, 3 2, 3 3, \n",
      "4 1, 4 2, 4 3, \n",
      "5 1, 5 2, 5 3, \n",
      "6 1, 6 2, 6 3, \n",
      "7 1, 7 2, 7 3, \n",
      "8 1, 8 2, 8 3, \n",
      "9 1, 9 2, 9 3, \n",
      "10 1, 10 2, 10 3, \n"
     ]
    }
   ],
   "source": [
    "for i in range(1, 11):\n",
    "    for j in range(1, 4):\n",
    "        print(i, j, end=', ')\n",
    "    print()"
   ]
  },
  {
   "cell_type": "code",
   "execution_count": 18,
   "metadata": {},
   "outputs": [
    {
     "name": "stdout",
     "output_type": "stream",
     "text": [
      "1 john 25 \n",
      "2 jane 22 \n",
      "3 doe 30 \n"
     ]
    }
   ],
   "source": [
    "cdata = [\n",
    "    [1, 'john', 25],\n",
    "    [2, 'jane', 22],\n",
    "    [3, 'doe', 30],\n",
    "]\n",
    "\n",
    "for row in cdata:\n",
    "    for item in row:\n",
    "        print(item, end=' ')\n",
    "    print()"
   ]
  },
  {
   "cell_type": "code",
   "execution_count": 20,
   "metadata": {},
   "outputs": [
    {
     "name": "stdout",
     "output_type": "stream",
     "text": [
      "12 45 67 \n",
      "23 45 67 \n",
      "34 56 78 \n",
      "\n",
      "23 45 23 \n",
      "34 56 78 \n",
      "\n"
     ]
    }
   ],
   "source": [
    "more_data = [\n",
    "    [[12,45,67], [23,45,67], [34,56,78]],\n",
    "    [[23,45,23], [34,56,78]],\n",
    "]\n",
    "\n",
    "for i in more_data:\n",
    "    for j in i:\n",
    "        for k in j:\n",
    "            print(k, end=' ')\n",
    "        print()\n",
    "    print()\n",
    "    "
   ]
  },
  {
   "cell_type": "code",
   "execution_count": 21,
   "metadata": {},
   "outputs": [
    {
     "name": "stdout",
     "output_type": "stream",
     "text": [
      "1\n",
      "2\n",
      "3\n",
      "4\n",
      "5\n",
      "loop executed\n"
     ]
    }
   ],
   "source": [
    "x = [1,2,3,4,5,-1,6,7,8,9,10]\n",
    "for i in x:\n",
    "    if i < 0:\n",
    "        break\n",
    "    print(i)\n",
    "print('loop executed')"
   ]
  },
  {
   "cell_type": "code",
   "execution_count": 25,
   "metadata": {},
   "outputs": [
    {
     "name": "stdout",
     "output_type": "stream",
     "text": [
      "1 2 3 4 5 6 7 8 9 10 11 12 13 14 15 16 17 18 19 20 21 22 23 24 25 26 27 28 29 30 31 32 33 34 35 36 37 38 39 40 41 42 43 44 45 46 47 48 49 50 51 52 53 54 55 56 57 58 59 60 61 62 63 64 65 66 67 68 69 70 71 72 73 74 75 76 77 78 79 80 81 82 83 84 85 86 87 88 89 90 91 92 93 94 95 96 97 98 99 100 101 102 103 104 105 106 107 108 109 110 111 112 113 114 115 116 117 118 119 120 121 122 123 124 125 126 127 128 129 130 131 132 133 134 135 136 137 138 139 140 141 142 143 144 145 146 147 148 149 150 151 152 153 154 155 156 157 158 159 160 161 162 163 164 165 166 167 168 169 170 171 172 173 174 175 176 177 178 179 180 181 182 183 184 185 186 187 188 189 190 191 192 193 194 195 196 197 198 199 200 201 202 203 204 205 206 207 208 209 210 211 212 213 214 215 216 217 218 219 220 221 222 223 224 225 226 227 228 229 230 231 232 233 234 235 236 237 238 239 240 241 242 243 244 245 246 247 248 249 250 251 252 253 254 255 256 257 258 259 260 261 262 263 264 265 266 267 268 269 270 271 272 273 274 275 276 277 278 279 280 281 282 283 284 285 286 287 288 289 290 291 292 293 294 295 296 297 298 299 300 301 302 303 304 305 306 307 308 309 310 311 312 313 314 315 316 317 318 319 320 321 322 323 324 325 326 327 328 329 330 331 332 333 334 335 336 337 338 339 340 341 342 343 344 345 346 347 348 349 350 351 352 353 354 355 356 357 358 359 360 361 362 363 364 365 366 367 368 369 370 371 372 373 374 375 376 377 378 379 380 381 382 383 384 385 386 387 388 389 390 391 392 393 394 395 396 397 398 399 400 401 402 403 404 405 406 407 408 409 410 411 412 413 414 415 416 417 418 419 420 421 422 423 424 425 426 427 428 429 430 431 432 433 434 435 436 437 438 439 440 441 442 443 444 445 446 447 448 449 450 451 452 453 454 455 456 457 458 459 460 461 462 463 464 465 466 467 468 469 470 471 472 473 474 475 476 477 478 479 480 481 482 483 484 485 486 487 488 489 490 491 492 493 494 495 496 497 498 499 500 501 502 503 504 505 506 507 508 509 510 511 512 513 514 515 516 517 518 519 520 521 522 523 524 525 526 527 528 529 530 531 532 533 534 535 536 537 538 539 540 541 542 543 544 545 546 547 548 549 550 551 552 553 554 555 556 557 558 559 560 561 562 563 564 565 566 567 568 569 570 571 572 573 574 575 576 577 578 579 580 581 582 583 584 585 586 587 588 589 590 591 592 593 594 595 596 597 598 599 600 601 602 603 604 605 606 607 608 609 610 611 612 613 614 615 616 617 618 619 620 621 622 623 624 625 626 627 628 629 630 631 632 633 634 635 636 637 638 639 640 641 642 643 644 645 646 647 648 649 650 651 652 653 654 655 656 657 658 659 660 661 662 663 664 665 666 667 668 669 670 671 672 673 674 675 676 677 678 679 680 681 682 683 684 685 686 687 688 689 690 691 692 693 694 695 696 697 698 699 700 701 702 703 704 705 706 707 708 709 710 711 712 713 714 715 716 717 718 719 720 721 722 723 724 725 726 727 728 729 730 731 732 733 734 735 736 737 738 739 740 741 742 743 744 745 746 747 748 749 750 751 752 753 754 755 756 757 758 759 760 761 762 763 764 765 766 767 768 769 770 771 772 773 774 775 776 777 778 779 780 781 782 783 784 785 786 787 788 789 790 791 792 793 794 795 796 797 798 799 800 801 802 803 804 805 806 807 808 809 810 811 812 813 814 815 816 817 818 819 820 821 822 823 824 825 826 827 828 829 830 831 832 833 834 835 836 837 838 839 840 841 842 843 844 845 846 847 848 849 850 851 852 853 854 855 856 857 858 859 860 861 862 863 864 865 866 867 868 869 870 871 872 873 874 875 876 877 878 879 880 881 882 883 884 885 886 887 888 889 890 891 892 893 894 895 896 897 898 899 900 901 902 903 904 905 906 907 908 909 910 911 912 913 914 915 916 917 918 919 920 921 922 923 924 925 926 927 928 929 930 931 932 933 934 935 936 937 938 939 940 941 942 943 944 945 946 947 948 949 950 951 952 953 954 955 956 957 958 959 960 961 962 963 964 965 966 967 968 969 970 971 972 973 974 975 976 977 978 979 980 981 982 983 984 985 986 987 988 989 990 991 992 993 994 995 996 997 998 999 "
     ]
    }
   ],
   "source": [
    "\n",
    "for e in range(1, 1000):\n",
    "    print(e, end=' ')"
   ]
  },
  {
   "cell_type": "code",
   "execution_count": 28,
   "metadata": {},
   "outputs": [
    {
     "name": "stdout",
     "output_type": "stream",
     "text": [
      "1 2 3 6 7 8 9 10 \n",
      "alternate way\n",
      "1 2 3 6 7 8 9 10 "
     ]
    }
   ],
   "source": [
    "data_with_str = [1,2,3,'4', '5', 6,7,8,9,10]\n",
    "for i in data_with_str:\n",
    "    if isinstance(i, str):\n",
    "        continue\n",
    "    print(i, end= ' ')\n",
    "\n",
    "#### alternative######\n",
    "print('\\nalternate way')\n",
    "for i in data_with_str:\n",
    "    if isinstance(i, int):\n",
    "        print(i, end=' ')"
   ]
  },
  {
   "cell_type": "code",
   "execution_count": 35,
   "metadata": {},
   "outputs": [
    {
     "name": "stdout",
     "output_type": "stream",
     "text": [
      "1\n",
      "2\n",
      "3\n",
      "4\n",
      "5\n",
      "6\n",
      "7\n",
      "8\n",
      "9\n",
      "10\n",
      "loop completed all steps\n"
     ]
    }
   ],
   "source": [
    "##madding a check for loop completion\n",
    "data = [1,2,3,4,5,6,7,8,9,10]\n",
    "stop_val = int(input('Enter a number to stop at: '))\n",
    "for i in data:\n",
    "    if stop_val == i:\n",
    "        print(f\"loop stopped at {i}\")\n",
    "        break\n",
    "    print(i)\n",
    "else:\n",
    "    print(\"loop completed all steps\")"
   ]
  },
  {
   "cell_type": "code",
   "execution_count": null,
   "metadata": {},
   "outputs": [],
   "source": []
  }
 ],
 "metadata": {
  "kernelspec": {
   "display_name": "base",
   "language": "python",
   "name": "python3"
  },
  "language_info": {
   "codemirror_mode": {
    "name": "ipython",
    "version": 3
   },
   "file_extension": ".py",
   "mimetype": "text/x-python",
   "name": "python",
   "nbconvert_exporter": "python",
   "pygments_lexer": "ipython3",
   "version": "3.12.3"
  }
 },
 "nbformat": 4,
 "nbformat_minor": 2
}
