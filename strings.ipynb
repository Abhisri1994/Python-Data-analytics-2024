{
 "cells": [
  {
   "cell_type": "markdown",
   "metadata": {},
   "source": [
    "- creating\n",
    "- indexing and slicing\n",
    "- methods\n",
    "- tips n triccks"
   ]
  },
  {
   "cell_type": "code",
   "execution_count": 3,
   "metadata": {},
   "outputs": [],
   "source": [
    "a = 'apple'\n",
    "b = \"apple\"\n",
    "c = '''this is very useful in multiline message'''\n",
    "d = str(1234)"
   ]
  },
  {
   "cell_type": "code",
   "execution_count": 7,
   "metadata": {},
   "outputs": [
    {
     "name": "stdout",
     "output_type": "stream",
     "text": [
      "apple is a fruit\n",
      "c:\\users\\zaid\\desktop\n",
      "hello\n",
      "b'hello'\n"
     ]
    }
   ],
   "source": [
    "# types of string\n",
    "# f-string\n",
    "x = f'{a} is a fruit'\n",
    "print(x)\n",
    "# raw string\n",
    "addr = r'c:\\users\\zaid\\desktop'\n",
    "print(addr)\n",
    "# unicode string\n",
    "uni = u'hello'\n",
    "print(uni)\n",
    "# byte string\n",
    "byt = b'hello'\n",
    "print(byt)"
   ]
  },
  {
   "cell_type": "code",
   "execution_count": 10,
   "metadata": {},
   "outputs": [
    {
     "name": "stdout",
     "output_type": "stream",
     "text": [
      "e\n",
      "n\n",
      "a\n",
      "a\n",
      "second last i\n",
      "sixth last o\n"
     ]
    }
   ],
   "source": [
    "v = 'encyclopedia'\n",
    "print(v[0]) # first index\n",
    "print(v[1]) # second index\n",
    "print(v[11]) # last index\n",
    "print(v[-1]) # last index in string if you  want to read string from last\n",
    "print('second last', v[-2])\n",
    "print('sixth last', v[-6])"
   ]
  },
  {
   "cell_type": "code",
   "execution_count": null,
   "metadata": {},
   "outputs": [],
   "source": []
  }
 ],
 "metadata": {
  "kernelspec": {
   "display_name": "base",
   "language": "python",
   "name": "python3"
  },
  "language_info": {
   "codemirror_mode": {
    "name": "ipython",
    "version": 3
   },
   "file_extension": ".py",
   "mimetype": "text/x-python",
   "name": "python",
   "nbconvert_exporter": "python",
   "pygments_lexer": "ipython3",
   "version": "3.12.3"
  }
 },
 "nbformat": 4,
 "nbformat_minor": 2
}
