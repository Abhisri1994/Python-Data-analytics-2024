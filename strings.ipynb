{
 "cells": [
  {
   "cell_type": "markdown",
   "metadata": {},
   "source": [
    "- creating\n",
    "- indexing and slicing\n",
    "- methods\n",
    "- tips n triccks"
   ]
  },
  {
   "cell_type": "code",
   "execution_count": 3,
   "metadata": {},
   "outputs": [],
   "source": [
    "a = 'apple'\n",
    "b = \"apple\"\n",
    "c = '''this is very useful in multiline message'''\n",
    "d = str(1234)"
   ]
  },
  {
   "cell_type": "code",
   "execution_count": 7,
   "metadata": {},
   "outputs": [
    {
     "name": "stdout",
     "output_type": "stream",
     "text": [
      "apple is a fruit\n",
      "c:\\users\\zaid\\desktop\n",
      "hello\n",
      "b'hello'\n"
     ]
    }
   ],
   "source": [
    "# types of string\n",
    "# f-string\n",
    "x = f'{a} is a fruit'\n",
    "print(x)\n",
    "# raw string\n",
    "addr = r'c:\\users\\zaid\\desktop'\n",
    "print(addr)\n",
    "# unicode string\n",
    "uni = u'hello'\n",
    "print(uni)\n",
    "# byte string\n",
    "byt = b'hello'\n",
    "print(byt)"
   ]
  },
  {
   "cell_type": "code",
   "execution_count": 10,
   "metadata": {},
   "outputs": [
    {
     "name": "stdout",
     "output_type": "stream",
     "text": [
      "e\n",
      "n\n",
      "a\n",
      "a\n",
      "second last i\n",
      "sixth last o\n"
     ]
    }
   ],
   "source": [
    "v = 'encyclopedia'\n",
    "print(v[0]) # first index\n",
    "print(v[1]) # second index\n",
    "print(v[11]) # last index\n",
    "print(v[-1]) # last index in string if you  want to read string from last\n",
    "print('second last', v[-2])\n",
    "print('sixth last', v[-6])"
   ]
  },
  {
   "cell_type": "markdown",
   "metadata": {},
   "source": [
    "Slicing in python\n",
    "    - x[Start : stop]"
   ]
  },
  {
   "cell_type": "code",
   "execution_count": 1,
   "metadata": {},
   "outputs": [
    {
     "name": "stdout",
     "output_type": "stream",
     "text": [
      "12\n",
      "cylcop\n"
     ]
    }
   ],
   "source": [
    "a = 'Encylcopedia'\n",
    "print(len(a))\n",
    "print(a[2:8]) # last index is not included\n"
   ]
  },
  {
   "cell_type": "code",
   "execution_count": 2,
   "metadata": {},
   "outputs": [
    {
     "name": "stdout",
     "output_type": "stream",
     "text": [
      "Vijay\n",
      "deenanath\n",
      "chauhan\n"
     ]
    }
   ],
   "source": [
    "name = 'Vijay deenanath chauhan'\n",
    "firstname = name[0:5]\n",
    "print(firstname)\n",
    "middlename = name[6:15]\n",
    "print(middlename)\n",
    "lastname = name[16:23]\n",
    "print(lastname)"
   ]
  },
  {
   "cell_type": "code",
   "execution_count": 3,
   "metadata": {},
   "outputs": [
    {
     "data": {
      "text/plain": [
       "'Vijay'"
      ]
     },
     "execution_count": 3,
     "metadata": {},
     "output_type": "execute_result"
    }
   ],
   "source": [
    "name[:5] # first 5 characters"
   ]
  },
  {
   "cell_type": "code",
   "execution_count": 4,
   "metadata": {},
   "outputs": [
    {
     "data": {
      "text/plain": [
       "'deenanath chauhan'"
      ]
     },
     "execution_count": 4,
     "metadata": {},
     "output_type": "execute_result"
    }
   ],
   "source": [
    "name[6:] # from 6th index  to end"
   ]
  },
  {
   "cell_type": "code",
   "execution_count": 5,
   "metadata": {},
   "outputs": [
    {
     "data": {
      "text/plain": [
       "'eternia'"
      ]
     },
     "execution_count": 5,
     "metadata": {},
     "output_type": "execute_result"
    }
   ],
   "source": [
    "msg = 'once upon a time, there was a place called eternia'\n",
    "msg[-7:]"
   ]
  },
  {
   "cell_type": "code",
   "execution_count": 6,
   "metadata": {},
   "outputs": [
    {
     "data": {
      "text/plain": [
       "'once upon a time'"
      ]
     },
     "execution_count": 6,
     "metadata": {},
     "output_type": "execute_result"
    }
   ],
   "source": [
    "msg = 'once upon a time, there was a place called eternia'\n",
    "msg[:16]"
   ]
  },
  {
   "cell_type": "code",
   "execution_count": 10,
   "metadata": {},
   "outputs": [
    {
     "name": "stdout",
     "output_type": "stream",
     "text": [
      "800999\n"
     ]
    }
   ],
   "source": [
    "amt = '%800999'\n",
    "amt = int(amt[1:])\n",
    "print(amt)\n",
    "\n"
   ]
  },
  {
   "cell_type": "code",
   "execution_count": 12,
   "metadata": {},
   "outputs": [
    {
     "data": {
      "text/plain": [
       "'oc pnatm,teewsapaecle tri'"
      ]
     },
     "execution_count": 12,
     "metadata": {},
     "output_type": "execute_result"
    }
   ],
   "source": [
    "msg[::2] # every 2nd character (even index)"
   ]
  },
  {
   "cell_type": "code",
   "execution_count": 15,
   "metadata": {},
   "outputs": [
    {
     "data": {
      "text/plain": [
       "'neuo  ie hr a  lc aldeena'"
      ]
     },
     "execution_count": 15,
     "metadata": {},
     "output_type": "execute_result"
    }
   ],
   "source": [
    "msg[1::2] # every 3rd character ( odd index)"
   ]
  },
  {
   "cell_type": "code",
   "execution_count": 16,
   "metadata": {},
   "outputs": [
    {
     "data": {
      "text/plain": [
       "'ainrete dellac ecalp a saw ereht ,emit a nopu ecno'"
      ]
     },
     "execution_count": 16,
     "metadata": {},
     "output_type": "execute_result"
    }
   ],
   "source": [
    "# most imp thing in slicing\n",
    "msg[::-1] #reverse the string"
   ]
  },
  {
   "cell_type": "code",
   "execution_count": 17,
   "metadata": {},
   "outputs": [
    {
     "data": {
      "text/plain": [
       "'ainre'"
      ]
     },
     "execution_count": 17,
     "metadata": {},
     "output_type": "execute_result"
    }
   ],
   "source": [
    "msg[::-1][:5]"
   ]
  },
  {
   "cell_type": "code",
   "execution_count": 18,
   "metadata": {},
   "outputs": [
    {
     "data": {
      "text/plain": [
       "'htananeed'"
      ]
     },
     "execution_count": 18,
     "metadata": {},
     "output_type": "execute_result"
    }
   ],
   "source": [
    "name[6:15][::-1]"
   ]
  },
  {
   "cell_type": "markdown",
   "metadata": {},
   "source": [
    "Strings Methods\n",
    "- formatting\n",
    "- validation\n",
    "- find & replace\n",
    "- etc."
   ]
  },
  {
   "cell_type": "code",
   "execution_count": 21,
   "metadata": {},
   "outputs": [
    {
     "name": "stdout",
     "output_type": "stream",
     "text": [
      "All that glitter is not gold 🥇\n",
      "ALL THAT GLITTER IS NOT GOLD 🥇\n",
      "all that glitter is not gold 🥇\n",
      "All that glitter is not gold 🥇\n",
      "aLL THAT GLITTER IS NOT GOLD 🥇\n",
      "All That Glitter Is Not Gold 🥇\n"
     ]
    }
   ],
   "source": [
    "quote =  \"All that glitter is not gold 🥇\"\n",
    "quote_upper = quote.upper()\n",
    "print(quote)\n",
    "print(quote_upper)\n",
    "quote_lower = quote.lower()\n",
    "print(quote_lower)\n",
    "quote_capatialise = quote.capitalize()\n",
    "print(quote_capatialise)\n",
    "quote_swapcase = quote.swapcase()\n",
    "print(quote_swapcase)\n",
    "quote_title = quote.title()\n",
    "print(quote_title)"
   ]
  },
  {
   "cell_type": "code",
   "execution_count": 22,
   "metadata": {},
   "outputs": [
    {
     "name": "stdout",
     "output_type": "stream",
     "text": [
      "\u001b[1;31mSignature:\u001b[0m \u001b[0mquote\u001b[0m\u001b[1;33m.\u001b[0m\u001b[0mrjust\u001b[0m\u001b[1;33m(\u001b[0m\u001b[0mwidth\u001b[0m\u001b[1;33m,\u001b[0m \u001b[0mfillchar\u001b[0m\u001b[1;33m=\u001b[0m\u001b[1;34m' '\u001b[0m\u001b[1;33m,\u001b[0m \u001b[1;33m/\u001b[0m\u001b[1;33m)\u001b[0m\u001b[1;33m\u001b[0m\u001b[1;33m\u001b[0m\u001b[0m\n",
      "\u001b[1;31mDocstring:\u001b[0m\n",
      "Return a right-justified string of length width.\n",
      "\n",
      "Padding is done using the specified fill character (default is a space).\n",
      "\u001b[1;31mType:\u001b[0m      builtin_function_or_method"
     ]
    }
   ],
   "source": [
    "quote.rjust?"
   ]
  },
  {
   "cell_type": "code",
   "execution_count": 24,
   "metadata": {},
   "outputs": [
    {
     "data": {
      "text/plain": [
       "'********************All that glitter is not gold 🥇'"
      ]
     },
     "execution_count": 24,
     "metadata": {},
     "output_type": "execute_result"
    }
   ],
   "source": [
    "quote.rjust(50, '*')"
   ]
  },
  {
   "cell_type": "code",
   "execution_count": 25,
   "metadata": {},
   "outputs": [
    {
     "data": {
      "text/plain": [
       "'**********All that glitter is not gold 🥇**********'"
      ]
     },
     "execution_count": 25,
     "metadata": {},
     "output_type": "execute_result"
    }
   ],
   "source": [
    "quote.center(50, '*')"
   ]
  },
  {
   "cell_type": "code",
   "execution_count": 26,
   "metadata": {},
   "outputs": [
    {
     "data": {
      "text/plain": [
       "False"
      ]
     },
     "execution_count": 26,
     "metadata": {},
     "output_type": "execute_result"
    }
   ],
   "source": [
    "name.isnumeric()"
   ]
  },
  {
   "cell_type": "code",
   "execution_count": 28,
   "metadata": {},
   "outputs": [
    {
     "name": "stdout",
     "output_type": "stream",
     "text": [
      "what kind of name is this? \n"
     ]
    }
   ],
   "source": [
    "fname = input(\"enter ur name: (dnt use numbers)\")\n",
    "if fname.isalpha():\n",
    "    print(\"valid name, very good\")\n",
    "else:\n",
    "    print(\"what kind of name is this? \")"
   ]
  },
  {
   "cell_type": "code",
   "execution_count": 31,
   "metadata": {},
   "outputs": [
    {
     "data": {
      "text/plain": [
       "30"
      ]
     },
     "execution_count": 31,
     "metadata": {},
     "output_type": "execute_result"
    }
   ],
   "source": [
    "# find and index methods for searching in strings\n",
    "msg.find('place') # returns the index of the first occurence of the substring"
   ]
  },
  {
   "cell_type": "code",
   "execution_count": 34,
   "metadata": {},
   "outputs": [
    {
     "name": "stdout",
     "output_type": "stream",
     "text": [
      "12\n",
      "40\n",
      "-1\n",
      "-1\n",
      "75\n"
     ]
    }
   ],
   "source": [
    "data = '''roshar is a place of magic and wonder, \n",
    "place of knights and kings. \n",
    "its a place of highstorms and shardblades'''\n",
    "print(data.find('place'))\n",
    "print(data.find('place', 13)) # 13 is the starting index of starting.\n",
    "print(data.find('Place')) # -1 means not found\n",
    "print(data.lower().find('Place')) # -1 means not found\n",
    "# reverse find\n",
    "print(data.rfind('place')) # returns the index of the last occurence of the sub string"
   ]
  },
  {
   "cell_type": "code",
   "execution_count": 36,
   "metadata": {},
   "outputs": [
    {
     "data": {
      "text/plain": [
       "'roshar is a ❤️ of magic and wonder, \\n❤️ of knights and kings. \\nits a ❤️ of highstorms and shardblades'"
      ]
     },
     "execution_count": 36,
     "metadata": {},
     "output_type": "execute_result"
    }
   ],
   "source": [
    "# replace method\n",
    "data.replace('place', '❤️')"
   ]
  },
  {
   "cell_type": "code",
   "execution_count": 37,
   "metadata": {},
   "outputs": [
    {
     "data": {
      "text/plain": [
       "'rashar is a place af magic and wander, \\nplace af knights and kings. \\nits a place af highstarms and shardblades'"
      ]
     },
     "execution_count": 37,
     "metadata": {},
     "output_type": "execute_result"
    }
   ],
   "source": [
    "data.replace('o', 'a')"
   ]
  },
  {
   "cell_type": "code",
   "execution_count": 38,
   "metadata": {},
   "outputs": [
    {
     "data": {
      "text/plain": [
       "'roshbr es b plbce of mbgec bnd wonder, \\nplbce of cneghts bnd cengs. \\nets b plbce of heghstorms bnd shbrdblbdes'"
      ]
     },
     "execution_count": 38,
     "metadata": {},
     "output_type": "execute_result"
    }
   ],
   "source": [
    "data.replace('i', 'e').replace('k', 'c').replace('a', 'b')"
   ]
  },
  {
   "cell_type": "code",
   "execution_count": 40,
   "metadata": {},
   "outputs": [
    {
     "name": "stdout",
     "output_type": "stream",
     "text": [
      "roshar_is_a_place of magic and wonder, \n",
      "place of knights and kings. \n",
      "its a place of highstorms and shardblades\n"
     ]
    }
   ],
   "source": [
    "print(data.replace(' ', '_', 3))"
   ]
  },
  {
   "cell_type": "code",
   "execution_count": null,
   "metadata": {},
   "outputs": [],
   "source": []
  }
 ],
 "metadata": {
  "kernelspec": {
   "display_name": "base",
   "language": "python",
   "name": "python3"
  },
  "language_info": {
   "codemirror_mode": {
    "name": "ipython",
    "version": 3
   },
   "file_extension": ".py",
   "mimetype": "text/x-python",
   "name": "python",
   "nbconvert_exporter": "python",
   "pygments_lexer": "ipython3",
   "version": "3.12.3"
  }
 },
 "nbformat": 4,
 "nbformat_minor": 2
}
